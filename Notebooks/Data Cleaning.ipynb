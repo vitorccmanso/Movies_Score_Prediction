{
 "cells": [
  {
   "cell_type": "markdown",
   "metadata": {},
   "source": [
    "# Data Cleaning"
   ]
  },
  {
   "cell_type": "code",
   "execution_count": 1,
   "metadata": {},
   "outputs": [],
   "source": [
    "import sys, os\n",
    "sys.path.append('../')\n",
    "import pandas as pd\n",
    "import matplotlib.pyplot as plt\n",
    "import seaborn as sns\n",
    "from utils.cleaning import cleaning_pipeline\n",
    "import warnings\n",
    "warnings.filterwarnings(\"ignore\")"
   ]
  },
  {
   "cell_type": "markdown",
   "metadata": {},
   "source": [
    "# Data Ingestion"
   ]
  },
  {
   "cell_type": "code",
   "execution_count": 2,
   "metadata": {},
   "outputs": [
    {
     "name": "stdout",
     "output_type": "stream",
     "text": [
      "Shape: (999, 16)\n"
     ]
    },
    {
     "data": {
      "text/html": [
       "<div>\n",
       "<style scoped>\n",
       "    .dataframe tbody tr th:only-of-type {\n",
       "        vertical-align: middle;\n",
       "    }\n",
       "\n",
       "    .dataframe tbody tr th {\n",
       "        vertical-align: top;\n",
       "    }\n",
       "\n",
       "    .dataframe thead th {\n",
       "        text-align: right;\n",
       "    }\n",
       "</style>\n",
       "<table border=\"1\" class=\"dataframe\">\n",
       "  <thead>\n",
       "    <tr style=\"text-align: right;\">\n",
       "      <th></th>\n",
       "      <th>Unnamed: 0</th>\n",
       "      <th>Series_Title</th>\n",
       "      <th>Released_Year</th>\n",
       "      <th>Certificate</th>\n",
       "      <th>Runtime</th>\n",
       "      <th>Genre</th>\n",
       "      <th>IMDB_Rating</th>\n",
       "      <th>Overview</th>\n",
       "      <th>Meta_score</th>\n",
       "      <th>Director</th>\n",
       "      <th>Star1</th>\n",
       "      <th>Star2</th>\n",
       "      <th>Star3</th>\n",
       "      <th>Star4</th>\n",
       "      <th>No_of_Votes</th>\n",
       "      <th>Gross</th>\n",
       "    </tr>\n",
       "  </thead>\n",
       "  <tbody>\n",
       "    <tr>\n",
       "      <th>0</th>\n",
       "      <td>1</td>\n",
       "      <td>The Godfather</td>\n",
       "      <td>1972</td>\n",
       "      <td>A</td>\n",
       "      <td>175 min</td>\n",
       "      <td>Crime, Drama</td>\n",
       "      <td>9.2</td>\n",
       "      <td>An organized crime dynasty's aging patriarch t...</td>\n",
       "      <td>100.0</td>\n",
       "      <td>Francis Ford Coppola</td>\n",
       "      <td>Marlon Brando</td>\n",
       "      <td>Al Pacino</td>\n",
       "      <td>James Caan</td>\n",
       "      <td>Diane Keaton</td>\n",
       "      <td>1620367</td>\n",
       "      <td>134,966,411</td>\n",
       "    </tr>\n",
       "    <tr>\n",
       "      <th>1</th>\n",
       "      <td>2</td>\n",
       "      <td>The Dark Knight</td>\n",
       "      <td>2008</td>\n",
       "      <td>UA</td>\n",
       "      <td>152 min</td>\n",
       "      <td>Action, Crime, Drama</td>\n",
       "      <td>9.0</td>\n",
       "      <td>When the menace known as the Joker wreaks havo...</td>\n",
       "      <td>84.0</td>\n",
       "      <td>Christopher Nolan</td>\n",
       "      <td>Christian Bale</td>\n",
       "      <td>Heath Ledger</td>\n",
       "      <td>Aaron Eckhart</td>\n",
       "      <td>Michael Caine</td>\n",
       "      <td>2303232</td>\n",
       "      <td>534,858,444</td>\n",
       "    </tr>\n",
       "    <tr>\n",
       "      <th>2</th>\n",
       "      <td>3</td>\n",
       "      <td>The Godfather: Part II</td>\n",
       "      <td>1974</td>\n",
       "      <td>A</td>\n",
       "      <td>202 min</td>\n",
       "      <td>Crime, Drama</td>\n",
       "      <td>9.0</td>\n",
       "      <td>The early life and career of Vito Corleone in ...</td>\n",
       "      <td>90.0</td>\n",
       "      <td>Francis Ford Coppola</td>\n",
       "      <td>Al Pacino</td>\n",
       "      <td>Robert De Niro</td>\n",
       "      <td>Robert Duvall</td>\n",
       "      <td>Diane Keaton</td>\n",
       "      <td>1129952</td>\n",
       "      <td>57,300,000</td>\n",
       "    </tr>\n",
       "    <tr>\n",
       "      <th>3</th>\n",
       "      <td>4</td>\n",
       "      <td>12 Angry Men</td>\n",
       "      <td>1957</td>\n",
       "      <td>U</td>\n",
       "      <td>96 min</td>\n",
       "      <td>Crime, Drama</td>\n",
       "      <td>9.0</td>\n",
       "      <td>A jury holdout attempts to prevent a miscarria...</td>\n",
       "      <td>96.0</td>\n",
       "      <td>Sidney Lumet</td>\n",
       "      <td>Henry Fonda</td>\n",
       "      <td>Lee J. Cobb</td>\n",
       "      <td>Martin Balsam</td>\n",
       "      <td>John Fiedler</td>\n",
       "      <td>689845</td>\n",
       "      <td>4,360,000</td>\n",
       "    </tr>\n",
       "    <tr>\n",
       "      <th>4</th>\n",
       "      <td>5</td>\n",
       "      <td>The Lord of the Rings: The Return of the King</td>\n",
       "      <td>2003</td>\n",
       "      <td>U</td>\n",
       "      <td>201 min</td>\n",
       "      <td>Action, Adventure, Drama</td>\n",
       "      <td>8.9</td>\n",
       "      <td>Gandalf and Aragorn lead the World of Men agai...</td>\n",
       "      <td>94.0</td>\n",
       "      <td>Peter Jackson</td>\n",
       "      <td>Elijah Wood</td>\n",
       "      <td>Viggo Mortensen</td>\n",
       "      <td>Ian McKellen</td>\n",
       "      <td>Orlando Bloom</td>\n",
       "      <td>1642758</td>\n",
       "      <td>377,845,905</td>\n",
       "    </tr>\n",
       "  </tbody>\n",
       "</table>\n",
       "</div>"
      ],
      "text/plain": [
       "   Unnamed: 0                                   Series_Title Released_Year  \\\n",
       "0           1                                  The Godfather          1972   \n",
       "1           2                                The Dark Knight          2008   \n",
       "2           3                         The Godfather: Part II          1974   \n",
       "3           4                                   12 Angry Men          1957   \n",
       "4           5  The Lord of the Rings: The Return of the King          2003   \n",
       "\n",
       "  Certificate  Runtime                     Genre  IMDB_Rating  \\\n",
       "0           A  175 min              Crime, Drama          9.2   \n",
       "1          UA  152 min      Action, Crime, Drama          9.0   \n",
       "2           A  202 min              Crime, Drama          9.0   \n",
       "3           U   96 min              Crime, Drama          9.0   \n",
       "4           U  201 min  Action, Adventure, Drama          8.9   \n",
       "\n",
       "                                            Overview  Meta_score  \\\n",
       "0  An organized crime dynasty's aging patriarch t...       100.0   \n",
       "1  When the menace known as the Joker wreaks havo...        84.0   \n",
       "2  The early life and career of Vito Corleone in ...        90.0   \n",
       "3  A jury holdout attempts to prevent a miscarria...        96.0   \n",
       "4  Gandalf and Aragorn lead the World of Men agai...        94.0   \n",
       "\n",
       "               Director           Star1            Star2          Star3  \\\n",
       "0  Francis Ford Coppola   Marlon Brando        Al Pacino     James Caan   \n",
       "1     Christopher Nolan  Christian Bale     Heath Ledger  Aaron Eckhart   \n",
       "2  Francis Ford Coppola       Al Pacino   Robert De Niro  Robert Duvall   \n",
       "3          Sidney Lumet     Henry Fonda      Lee J. Cobb  Martin Balsam   \n",
       "4         Peter Jackson     Elijah Wood  Viggo Mortensen   Ian McKellen   \n",
       "\n",
       "           Star4  No_of_Votes        Gross  \n",
       "0   Diane Keaton      1620367  134,966,411  \n",
       "1  Michael Caine      2303232  534,858,444  \n",
       "2   Diane Keaton      1129952   57,300,000  \n",
       "3   John Fiedler       689845    4,360,000  \n",
       "4  Orlando Bloom      1642758  377,845,905  "
      ]
     },
     "execution_count": 2,
     "metadata": {},
     "output_type": "execute_result"
    }
   ],
   "source": [
    "df = pd.read_csv(\"./Data/desafio_indicium_imdb.csv\", sep=\",\")\n",
    "print(f\"Shape: {df.shape}\")\n",
    "df.head()"
   ]
  },
  {
   "cell_type": "markdown",
   "metadata": {},
   "source": [
    "# General Look at the Data"
   ]
  },
  {
   "cell_type": "code",
   "execution_count": 3,
   "metadata": {},
   "outputs": [
    {
     "name": "stdout",
     "output_type": "stream",
     "text": [
      "<class 'pandas.core.frame.DataFrame'>\n",
      "RangeIndex: 999 entries, 0 to 998\n",
      "Data columns (total 16 columns):\n",
      " #   Column         Non-Null Count  Dtype  \n",
      "---  ------         --------------  -----  \n",
      " 0   Unnamed: 0     999 non-null    int64  \n",
      " 1   Series_Title   999 non-null    object \n",
      " 2   Released_Year  999 non-null    object \n",
      " 3   Certificate    898 non-null    object \n",
      " 4   Runtime        999 non-null    object \n",
      " 5   Genre          999 non-null    object \n",
      " 6   IMDB_Rating    999 non-null    float64\n",
      " 7   Overview       999 non-null    object \n",
      " 8   Meta_score     842 non-null    float64\n",
      " 9   Director       999 non-null    object \n",
      " 10  Star1          999 non-null    object \n",
      " 11  Star2          999 non-null    object \n",
      " 12  Star3          999 non-null    object \n",
      " 13  Star4          999 non-null    object \n",
      " 14  No_of_Votes    999 non-null    int64  \n",
      " 15  Gross          830 non-null    object \n",
      "dtypes: float64(2), int64(2), object(12)\n",
      "memory usage: 125.0+ KB\n"
     ]
    }
   ],
   "source": [
    "df.info()"
   ]
  },
  {
   "cell_type": "code",
   "execution_count": 4,
   "metadata": {},
   "outputs": [
    {
     "data": {
      "text/plain": [
       "Unnamed: 0         0\n",
       "Series_Title       0\n",
       "Released_Year      0\n",
       "Certificate      101\n",
       "Runtime            0\n",
       "Genre              0\n",
       "IMDB_Rating        0\n",
       "Overview           0\n",
       "Meta_score       157\n",
       "Director           0\n",
       "Star1              0\n",
       "Star2              0\n",
       "Star3              0\n",
       "Star4              0\n",
       "No_of_Votes        0\n",
       "Gross            169\n",
       "dtype: int64"
      ]
     },
     "execution_count": 4,
     "metadata": {},
     "output_type": "execute_result"
    }
   ],
   "source": [
    "df.isna().sum()"
   ]
  },
  {
   "cell_type": "code",
   "execution_count": 5,
   "metadata": {},
   "outputs": [
    {
     "data": {
      "text/plain": [
       "np.int64(0)"
      ]
     },
     "execution_count": 5,
     "metadata": {},
     "output_type": "execute_result"
    }
   ],
   "source": [
    "df.duplicated().sum()"
   ]
  },
  {
   "cell_type": "code",
   "execution_count": 6,
   "metadata": {},
   "outputs": [
    {
     "data": {
      "text/html": [
       "<div>\n",
       "<style scoped>\n",
       "    .dataframe tbody tr th:only-of-type {\n",
       "        vertical-align: middle;\n",
       "    }\n",
       "\n",
       "    .dataframe tbody tr th {\n",
       "        vertical-align: top;\n",
       "    }\n",
       "\n",
       "    .dataframe thead th {\n",
       "        text-align: right;\n",
       "    }\n",
       "</style>\n",
       "<table border=\"1\" class=\"dataframe\">\n",
       "  <thead>\n",
       "    <tr style=\"text-align: right;\">\n",
       "      <th></th>\n",
       "      <th>Unnamed: 0</th>\n",
       "      <th>IMDB_Rating</th>\n",
       "      <th>Meta_score</th>\n",
       "      <th>No_of_Votes</th>\n",
       "    </tr>\n",
       "  </thead>\n",
       "  <tbody>\n",
       "    <tr>\n",
       "      <th>count</th>\n",
       "      <td>999.000000</td>\n",
       "      <td>999.000000</td>\n",
       "      <td>842.000000</td>\n",
       "      <td>9.990000e+02</td>\n",
       "    </tr>\n",
       "    <tr>\n",
       "      <th>mean</th>\n",
       "      <td>500.000000</td>\n",
       "      <td>7.947948</td>\n",
       "      <td>77.969121</td>\n",
       "      <td>2.716214e+05</td>\n",
       "    </tr>\n",
       "    <tr>\n",
       "      <th>std</th>\n",
       "      <td>288.530761</td>\n",
       "      <td>0.272290</td>\n",
       "      <td>12.383257</td>\n",
       "      <td>3.209126e+05</td>\n",
       "    </tr>\n",
       "    <tr>\n",
       "      <th>min</th>\n",
       "      <td>1.000000</td>\n",
       "      <td>7.600000</td>\n",
       "      <td>28.000000</td>\n",
       "      <td>2.508800e+04</td>\n",
       "    </tr>\n",
       "    <tr>\n",
       "      <th>25%</th>\n",
       "      <td>250.500000</td>\n",
       "      <td>7.700000</td>\n",
       "      <td>70.000000</td>\n",
       "      <td>5.547150e+04</td>\n",
       "    </tr>\n",
       "    <tr>\n",
       "      <th>50%</th>\n",
       "      <td>500.000000</td>\n",
       "      <td>7.900000</td>\n",
       "      <td>79.000000</td>\n",
       "      <td>1.383560e+05</td>\n",
       "    </tr>\n",
       "    <tr>\n",
       "      <th>75%</th>\n",
       "      <td>749.500000</td>\n",
       "      <td>8.100000</td>\n",
       "      <td>87.000000</td>\n",
       "      <td>3.731675e+05</td>\n",
       "    </tr>\n",
       "    <tr>\n",
       "      <th>max</th>\n",
       "      <td>999.000000</td>\n",
       "      <td>9.200000</td>\n",
       "      <td>100.000000</td>\n",
       "      <td>2.303232e+06</td>\n",
       "    </tr>\n",
       "  </tbody>\n",
       "</table>\n",
       "</div>"
      ],
      "text/plain": [
       "       Unnamed: 0  IMDB_Rating  Meta_score   No_of_Votes\n",
       "count  999.000000   999.000000  842.000000  9.990000e+02\n",
       "mean   500.000000     7.947948   77.969121  2.716214e+05\n",
       "std    288.530761     0.272290   12.383257  3.209126e+05\n",
       "min      1.000000     7.600000   28.000000  2.508800e+04\n",
       "25%    250.500000     7.700000   70.000000  5.547150e+04\n",
       "50%    500.000000     7.900000   79.000000  1.383560e+05\n",
       "75%    749.500000     8.100000   87.000000  3.731675e+05\n",
       "max    999.000000     9.200000  100.000000  2.303232e+06"
      ]
     },
     "execution_count": 6,
     "metadata": {},
     "output_type": "execute_result"
    }
   ],
   "source": [
    "df.describe()"
   ]
  },
  {
   "cell_type": "markdown",
   "metadata": {},
   "source": [
    "### Observations:\n",
    "- The dataset contains missing values in four columns: `Certificate`, `Meta_Score`, `Gross`. Non of them have the same amount of NaN values\n",
    "- There are no duplicated rows\n",
    "- It contains a sort of Id column, although it's probably bad formatting of the file\n",
    "- The `IMDB_Rating` column is the target\n",
    "- `Runtime` should be a numerical column, but is a categorical one because of the \"min\" text at a first glance\n",
    "- `Released_Year` and `Gross` are also being treated as categorical columns\n",
    "- `Genre` is presented as a list of all genres the movie fits in\n",
    "- `IMDB_Rating` and\t`Meta_score` appear to have a distribution close to normal, with `No_of_Votes` being the numerical column with a potential high skew\n",
    "### Impact:\n",
    "- For a lower chance of a mistake in the future, all columns should be formatted in lowercase\n",
    "- Missing data in the columns `Certificate`, `Meta_score` and `Gross` should be handled\n",
    "- The \"Id\" column must be dropped since it has no value and it's probably bad formatting\n",
    "- `Runtime`, `Released_Year` and `Gross` should be investigated and changed to numerical columns\n",
    "- `Genre` values should be formatted into actual lists for an easier analysis later on\n",
    "- All numerical columns, along with `Runtime` and `Gross` should be investigated to see any outlier behavior"
   ]
  },
  {
   "cell_type": "markdown",
   "metadata": {},
   "source": [
    "# Categorical columns that should be Numerical ones"
   ]
  },
  {
   "cell_type": "markdown",
   "metadata": {},
   "source": [
    "## Released_Year"
   ]
  },
  {
   "cell_type": "code",
   "execution_count": 7,
   "metadata": {},
   "outputs": [
    {
     "data": {
      "text/plain": [
       "(1, 16)"
      ]
     },
     "execution_count": 7,
     "metadata": {},
     "output_type": "execute_result"
    }
   ],
   "source": [
    "df[~df[\"Released_Year\"].str.isdigit()].shape"
   ]
  },
  {
   "cell_type": "code",
   "execution_count": 8,
   "metadata": {},
   "outputs": [
    {
     "data": {
      "text/html": [
       "<div>\n",
       "<style scoped>\n",
       "    .dataframe tbody tr th:only-of-type {\n",
       "        vertical-align: middle;\n",
       "    }\n",
       "\n",
       "    .dataframe tbody tr th {\n",
       "        vertical-align: top;\n",
       "    }\n",
       "\n",
       "    .dataframe thead th {\n",
       "        text-align: right;\n",
       "    }\n",
       "</style>\n",
       "<table border=\"1\" class=\"dataframe\">\n",
       "  <thead>\n",
       "    <tr style=\"text-align: right;\">\n",
       "      <th></th>\n",
       "      <th>Unnamed: 0</th>\n",
       "      <th>Series_Title</th>\n",
       "      <th>Released_Year</th>\n",
       "      <th>Certificate</th>\n",
       "      <th>Runtime</th>\n",
       "      <th>Genre</th>\n",
       "      <th>IMDB_Rating</th>\n",
       "      <th>Overview</th>\n",
       "      <th>Meta_score</th>\n",
       "      <th>Director</th>\n",
       "      <th>Star1</th>\n",
       "      <th>Star2</th>\n",
       "      <th>Star3</th>\n",
       "      <th>Star4</th>\n",
       "      <th>No_of_Votes</th>\n",
       "      <th>Gross</th>\n",
       "    </tr>\n",
       "  </thead>\n",
       "  <tbody>\n",
       "    <tr>\n",
       "      <th>965</th>\n",
       "      <td>966</td>\n",
       "      <td>Apollo 13</td>\n",
       "      <td>PG</td>\n",
       "      <td>U</td>\n",
       "      <td>140 min</td>\n",
       "      <td>Adventure, Drama, History</td>\n",
       "      <td>7.6</td>\n",
       "      <td>NASA must devise a strategy to return Apollo 1...</td>\n",
       "      <td>77.0</td>\n",
       "      <td>Ron Howard</td>\n",
       "      <td>Tom Hanks</td>\n",
       "      <td>Bill Paxton</td>\n",
       "      <td>Kevin Bacon</td>\n",
       "      <td>Gary Sinise</td>\n",
       "      <td>269197</td>\n",
       "      <td>173,837,933</td>\n",
       "    </tr>\n",
       "  </tbody>\n",
       "</table>\n",
       "</div>"
      ],
      "text/plain": [
       "     Unnamed: 0 Series_Title Released_Year Certificate  Runtime  \\\n",
       "965         966    Apollo 13            PG           U  140 min   \n",
       "\n",
       "                         Genre  IMDB_Rating  \\\n",
       "965  Adventure, Drama, History          7.6   \n",
       "\n",
       "                                              Overview  Meta_score  \\\n",
       "965  NASA must devise a strategy to return Apollo 1...        77.0   \n",
       "\n",
       "       Director      Star1        Star2        Star3        Star4  \\\n",
       "965  Ron Howard  Tom Hanks  Bill Paxton  Kevin Bacon  Gary Sinise   \n",
       "\n",
       "     No_of_Votes        Gross  \n",
       "965       269197  173,837,933  "
      ]
     },
     "execution_count": 8,
     "metadata": {},
     "output_type": "execute_result"
    }
   ],
   "source": [
    "df[~df[\"Released_Year\"].str.isdigit()]"
   ]
  },
  {
   "cell_type": "markdown",
   "metadata": {},
   "source": [
    "## Runtime"
   ]
  },
  {
   "cell_type": "code",
   "execution_count": 9,
   "metadata": {},
   "outputs": [
    {
     "data": {
      "text/plain": [
       "(0, 16)"
      ]
     },
     "execution_count": 9,
     "metadata": {},
     "output_type": "execute_result"
    }
   ],
   "source": [
    "df[df[\"Runtime\"].str.isdigit()].shape"
   ]
  },
  {
   "cell_type": "code",
   "execution_count": 10,
   "metadata": {},
   "outputs": [
    {
     "data": {
      "text/plain": [
       "np.True_"
      ]
     },
     "execution_count": 10,
     "metadata": {},
     "output_type": "execute_result"
    }
   ],
   "source": [
    "df[\"Runtime\"].str.endswith(\" min\").all()"
   ]
  },
  {
   "cell_type": "code",
   "execution_count": 11,
   "metadata": {},
   "outputs": [
    {
     "data": {
      "text/plain": [
       "(999,)"
      ]
     },
     "execution_count": 11,
     "metadata": {},
     "output_type": "execute_result"
    }
   ],
   "source": [
    "df[\"Runtime\"].str.split(\" \", expand=True)[0].str.isdigit().shape"
   ]
  },
  {
   "cell_type": "markdown",
   "metadata": {},
   "source": [
    "## Gross"
   ]
  },
  {
   "cell_type": "code",
   "execution_count": 12,
   "metadata": {},
   "outputs": [
    {
     "data": {
      "text/plain": [
       "(830,)"
      ]
     },
     "execution_count": 12,
     "metadata": {},
     "output_type": "execute_result"
    }
   ],
   "source": [
    "df[df[\"Gross\"].notna()][\"Gross\"].astype(str).str.isdigit().shape\n"
   ]
  },
  {
   "cell_type": "markdown",
   "metadata": {},
   "source": [
    "### Observations:\n",
    "- `Released_Year` has a single row where there's no year, but a type of certificate on its place\n",
    "- `Runtime` has all values with the \"min\" after the number\n",
    "- `Gross` do not have any rows without digits\n",
    "\n",
    "### Impact:\n",
    "- Since there's only one case of letters in the place of the year and the column `Released_Year` doesn't have NaN values, a quick search online can be made to replace the letters with the correct year\n",
    "- `Runtime` has all values ending with \"min\", and if I remove this, all values are only numbers\n",
    "- `Gross` has all values (excluding NaN) as digits, so the \",\" needs to be replaced with \"\""
   ]
  },
  {
   "cell_type": "markdown",
   "metadata": {},
   "source": [
    "# Missing Data"
   ]
  },
  {
   "cell_type": "code",
   "execution_count": 13,
   "metadata": {},
   "outputs": [
    {
     "data": {
      "text/plain": [
       "Certificate\n",
       "U           234\n",
       "A           196\n",
       "UA          175\n",
       "R           146\n",
       "PG-13        43\n",
       "PG           37\n",
       "Passed       34\n",
       "G            12\n",
       "Approved     11\n",
       "TV-PG         3\n",
       "GP            2\n",
       "TV-14         1\n",
       "Unrated       1\n",
       "TV-MA         1\n",
       "16            1\n",
       "U/A           1\n",
       "Name: count, dtype: int64"
      ]
     },
     "execution_count": 13,
     "metadata": {},
     "output_type": "execute_result"
    }
   ],
   "source": [
    "df[\"Certificate\"].value_counts()"
   ]
  },
  {
   "cell_type": "markdown",
   "metadata": {},
   "source": [
    "### Observations:\n",
    "- `Certificate` has a \"Unrated\" category.\n",
    "\n",
    "### Impact:\n",
    "- All NaN values of `Certificate` can be replaced by \"Unrated\", since it's impossible to know the certificate of each movie, and the column also doesn't have any connection to the others\n",
    "- `Meta_Score` and `Gross` can have their NaN values replaced by the median of each column, so the distribution of them is less disrupted, maintaining the integrity of the data distribution, but this will only be confirmed in the outlier study"
   ]
  },
  {
   "cell_type": "markdown",
   "metadata": {},
   "source": [
    "# Outilers"
   ]
  },
  {
   "cell_type": "code",
   "execution_count": 14,
   "metadata": {},
   "outputs": [
    {
     "data": {
      "image/png": "[encoded data removed]",
      "text/plain": [
       "<Figure size 1600x800 with 6 Axes>"
      ]
     },
     "metadata": {},
     "output_type": "display_data"
    }
   ],
   "source": [
    "fig, ax = plt.subplots(3, 2, figsize=(16, 8))\n",
    "ax = ax.ravel()\n",
    "df[\"Gross_int\"] = df[df[\"Gross\"].notna()][\"Gross\"].astype(str).str.replace(\",\", \"\").astype(int)\n",
    "df[\"Runtime_int\"] = df[\"Runtime\"].str.replace(\" min\", \"\").astype(int)\n",
    "columns = [\"IMDB_Rating\", \"Meta_score\", \"No_of_Votes\", \"Gross_int\", \"Runtime_int\"]\n",
    "for i, col in enumerate(df[columns]):\n",
    "    sns.boxplot(y=df[col], ax=ax[i])\n",
    "    ax[i].axhline(df[col].mean(), color=\"orange\", linestyle=\"--\")\n",
    "    ax[i].set_title(f\"Boxplot: {col}\")\n",
    "plt.tight_layout()\n",
    "plt.show()"
   ]
  },
  {
   "cell_type": "markdown",
   "metadata": {},
   "source": [
    "### Observations:\n",
    "- The orange line represents the mean of each column\n",
    "- `IMDB_Rating`, `Meta_Score` and `Runtime` are the columns with the distribution being the closest to a normal one, with a few outliers\n",
    "- `No_of_Votes` and `Gross` are far from a normal distribution and also have a high number of outliers\n",
    "\n",
    "### Impact:\n",
    "- `No_of_Votes` and `Gross` will probably need to go through a statistical transformation to try and fix the high skewness of them and the high number of outliers\n",
    "- The NaN values of `Meta_score` and `Gross` will be replaced by the median"
   ]
  },
  {
   "cell_type": "markdown",
   "metadata": {},
   "source": [
    "# Data Cleaning Pipeline"
   ]
  },
  {
   "cell_type": "markdown",
   "metadata": {},
   "source": [
    "### Based on the analysis in this notebook, the following data cleaning steps will be taken:\n",
    "- Remove the \"id\" column\n",
    "- Format all column names in lowercase\n",
    "- Format the values of `Genre` into lists\n",
    "- Transform `Released_Year`, `Runtime` and `Gross` into numerical columns\n",
    "- Fill all NaN values of `Certificate` with \"Unrated\" and the Nan values of `Meta_score` and `Gross` with the median of each column"
   ]
  },
  {
   "cell_type": "code",
   "execution_count": 21,
   "metadata": {},
   "outputs": [],
   "source": [
    "df = pd.read_csv(\"./Data/desafio_indicium_imdb.csv\")\n",
    "cleaning_pipeline(df, \"Data\", \"clean_desafio_indicium_imdb\")"
   ]
  }
 ],
 "metadata": {
  "kernelspec": {
   "display_name": "pred-env",
   "language": "python",
   "name": "python3"
  },
  "language_info": {
   "codemirror_mode": {
    "name": "ipython",
    "version": 3
   },
   "file_extension": ".py",
   "mimetype": "text/x-python",
   "name": "python",
   "nbconvert_exporter": "python",
   "pygments_lexer": "ipython3",
   "version": "3.12.4"
  }
 },
 "nbformat": 4,
 "nbformat_minor": 2
}
